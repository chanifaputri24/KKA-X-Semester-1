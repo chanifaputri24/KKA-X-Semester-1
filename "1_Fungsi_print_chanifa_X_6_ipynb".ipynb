{
  "cells": [
    {
      "cell_type": "markdown",
      "metadata": {
        "id": "view-in-github",
        "colab_type": "text"
      },
      "source": [
        "<a href=\"https://colab.research.google.com/github/chanifaputri24/KKA-X-Semester-1/blob/main/%221_Fungsi_print_chanifa_X_6_ipynb%22.ipynb\" target=\"_parent\"><img src=\"https://colab.research.google.com/assets/colab-badge.svg\" alt=\"Open In Colab\"/></a>"
      ]
    },
    {
      "cell_type": "code",
      "execution_count": null,
      "metadata": {
        "id": "EtORfZJCqrii"
      },
      "outputs": [],
      "source": [
        "Nama : Chanifa Aurellia Putri"
      ]
    },
    {
      "cell_type": "code",
      "execution_count": null,
      "metadata": {
        "id": "qfCEUbuVrnLt"
      },
      "outputs": [],
      "source": [
        "Kelas : X.6"
      ]
    },
    {
      "cell_type": "markdown",
      "metadata": {
        "id": "su6R9nDytarw"
      },
      "source": [
        "Absen : 5"
      ]
    },
    {
      "cell_type": "code",
      "execution_count": null,
      "metadata": {
        "colab": {
          "base_uri": "https://localhost:8080/"
        },
        "id": "gjiykpHMuZa6",
        "outputId": "649a8a37-62df-4f96-d92a-f73bf3f9512f"
      },
      "outputs": [
        {
          "name": "stdout",
          "output_type": "stream",
          "text": [
            "halo naryosur\n"
          ]
        }
      ],
      "source": [
        "print(\"halo naryosur\")"
      ]
    },
    {
      "cell_type": "code",
      "execution_count": null,
      "metadata": {
        "colab": {
          "base_uri": "https://localhost:8080/"
        },
        "id": "ZHR98r1_vHfp",
        "outputId": "03c4b087-8272-4320-9c8c-657d2fe265d3"
      },
      "outputs": [
        {
          "name": "stdout",
          "output_type": "stream",
          "text": [
            "Chanifa Aurellia Putri\n"
          ]
        }
      ],
      "source": [
        "print(\"Chanifa Aurellia Putri\")"
      ]
    },
    {
      "cell_type": "code",
      "execution_count": null,
      "metadata": {
        "colab": {
          "base_uri": "https://localhost:8080/"
        },
        "id": "CzBNwpijvrFE",
        "outputId": "ee53eb60-9588-4f3a-c90b-7068d889d53d"
      },
      "outputs": [
        {
          "output_type": "stream",
          "name": "stdout",
          "text": [
            "halo dunia aku hari ini belajar bahasa poython\n"
          ]
        }
      ],
      "source": [
        "print(\"\"\"halo dunia aku hari ini belajar bahasa poython\"\"\")"
      ]
    },
    {
      "cell_type": "code",
      "execution_count": null,
      "metadata": {
        "colab": {
          "base_uri": "https://localhost:8080/"
        },
        "id": "_znAohKk1y0X",
        "outputId": "8aa290dc-60bb-4fd6-810e-ca145947b062"
      },
      "outputs": [
        {
          "name": "stdout",
          "output_type": "stream",
          "text": [
            "Chanifa Aurellia Putri\n",
            "14\n"
          ]
        }
      ],
      "source": [
        "Nama = \"Chanifa Aurellia Putri\"\n",
        "usia = 14\n",
        "\n",
        "print(Nama)\n",
        "print(usia)"
      ]
    },
    {
      "cell_type": "code",
      "execution_count": null,
      "metadata": {
        "colab": {
          "base_uri": "https://localhost:8080/"
        },
        "id": "FuSY4N-h3ehH",
        "outputId": "b1581302-5896-4540-ce4c-2ce5e7b73cbc"
      },
      "outputs": [
        {
          "output_type": "stream",
          "name": "stdout",
          "text": [
            "hitam\n",
            "41\n"
          ]
        }
      ],
      "source": [
        "warna_favorit = \"hitam\"\n",
        "berat_badan = 41\n",
        "\n",
        "print(warna_favorit)\n",
        "print(berat_badan)"
      ]
    },
    {
      "cell_type": "code",
      "execution_count": null,
      "metadata": {
        "colab": {
          "base_uri": "https://localhost:8080/"
        },
        "id": "rNmh-fIp6-XA",
        "outputId": "4e7eee6f-5035-42c3-a7d4-165a7a8221db"
      },
      "outputs": [
        {
          "output_type": "stream",
          "name": "stdout",
          "text": [
            "berat badan: 41\n"
          ]
        }
      ],
      "source": [
        "print(\"berat badan: \" + str(berat_badan))"
      ]
    },
    {
      "cell_type": "code",
      "execution_count": null,
      "metadata": {
        "colab": {
          "base_uri": "https://localhost:8080/"
        },
        "id": "Q5FdFToWx1-S",
        "outputId": "8267911f-b648-4c3b-abd5-d1d9352432f4"
      },
      "outputs": [
        {
          "name": "stdout",
          "output_type": "stream",
          "text": [
            "Nama: Chanifa Aurellia Putri loh\n"
          ]
        }
      ],
      "source": [
        "print(\"Nama:\", Nama ,\"loh\")"
      ]
    },
    {
      "cell_type": "code",
      "execution_count": null,
      "metadata": {
        "colab": {
          "base_uri": "https://localhost:8080/"
        },
        "id": "a_0cbTUTzuwE",
        "outputId": "8078be67-48ae-4559-c210-5b0a732fb346"
      },
      "outputs": [
        {
          "name": "stdout",
          "output_type": "stream",
          "text": [
            "berat_badan: 41\n"
          ]
        }
      ],
      "source": [
        "print(\"berat_badan:\" , berat_badan)"
      ]
    },
    {
      "cell_type": "code",
      "execution_count": null,
      "metadata": {
        "colab": {
          "base_uri": "https://localhost:8080/"
        },
        "id": "5DHKRV1az_j7",
        "outputId": "fa460fed-d0f4-49ca-c292-25ea2a805644"
      },
      "outputs": [
        {
          "name": "stdout",
          "output_type": "stream",
          "text": [
            "Nama: Chanifa Aurellia Putri loh\n"
          ]
        }
      ],
      "source": [
        "print(f\"Nama: {Nama} loh\")"
      ]
    },
    {
      "cell_type": "code",
      "execution_count": null,
      "metadata": {
        "colab": {
          "base_uri": "https://localhost:8080/"
        },
        "id": "9MAdfDjt9rKL",
        "outputId": "7ba6a320-01f3-4f20-af16-e4a090f6bc71"
      },
      "outputs": [
        {
          "name": "stdout",
          "output_type": "stream",
          "text": [
            "Nama: Chanifa Aurellia Putri\")\n",
            "kelas: X.6\n",
            "No. Absen: 5\n"
          ]
        }
      ],
      "source": [
        "print(\"\"\"Nama: Chanifa Aurellia Putri)\n",
        "kelas: X.6\n",
        "No. Absen: 5\"\"\")"
      ]
    },
    {
      "cell_type": "code",
      "execution_count": null,
      "metadata": {
        "colab": {
          "base_uri": "https://localhost:8080/"
        },
        "id": "PahCo5AV-QMi",
        "outputId": "5aa75fea-c06b-42d5-a7a3-c839f5dc88b1"
      },
      "outputs": [
        {
          "name": "stdout",
          "output_type": "stream",
          "text": [
            "Nama: Chanifa Aurellia Putri\n",
            "kelas: X.6\n",
            "No. Absen: 5\n"
          ]
        }
      ],
      "source": [
        "print(\"Nama: Chanifa Aurellia Putri\")\n",
        "print(\"kelas: X.6\")\n",
        "print(\"No. Absen: 5\")"
      ]
    },
    {
      "cell_type": "code",
      "execution_count": null,
      "metadata": {
        "colab": {
          "base_uri": "https://localhost:8080/"
        },
        "id": "d9zqltsP-03Z",
        "outputId": "1314379f-9e81-400a-afdc-1c422032da05"
      },
      "outputs": [
        {
          "name": "stdout",
          "output_type": "stream",
          "text": [
            "Nama: Chanifa Aurellia Putri\n",
            "kelas: X.6\n",
            "No. Absen: 5\n"
          ]
        }
      ],
      "source": [
        "print(\"Nama: Chanifa Aurellia Putri\\nkelas: X.6\\nNo. Absen: 5\")"
      ]
    },
    {
      "cell_type": "code",
      "execution_count": null,
      "metadata": {
        "colab": {
          "base_uri": "https://localhost:8080/"
        },
        "id": "U9bTPj4k_Nuq",
        "outputId": "02cd2be5-11ef-452a-8e7e-e2d8c4e694dd"
      },
      "outputs": [
        {
          "output_type": "stream",
          "name": "stdout",
          "text": [
            "Nama\t\t: Chanifa Aurellia Putri \n",
            "kelas\t\t: X.6\n",
            "No. Absen\t: 5\n"
          ]
        }
      ],
      "source": [
        "print(\"Nama\\t\\t: Chanifa Aurellia Putri \\nkelas\\t\\t: X.6\\nNo. Absen\\t: 5\")"
      ]
    },
    {
      "cell_type": "code",
      "source": [
        "print(\"Nama\\t\\t: Ja'far Shodiq\\nkelas\\t\\t: X.6\\nNo. Absen\\t: 5\")"
      ],
      "metadata": {
        "colab": {
          "base_uri": "https://localhost:8080/"
        },
        "id": "EDmjEcAZy5fZ",
        "outputId": "25cebae1-5586-46ed-9739-38118a9d6028"
      },
      "execution_count": null,
      "outputs": [
        {
          "output_type": "stream",
          "name": "stdout",
          "text": [
            "Nama\t\t: Ja'far Shodiq\n",
            "kelas\t\t: X.6\n",
            "No. Absen\t: 5\n"
          ]
        }
      ]
    },
    {
      "cell_type": "code",
      "source": [
        "print(\"chanifa berkata, \\\"Tolong perhatikan ke layar TV!\\\".\")"
      ],
      "metadata": {
        "colab": {
          "base_uri": "https://localhost:8080/"
        },
        "id": "CLE4RSMTxFZA",
        "outputId": "c4471d8f-b1c5-4e79-8f19-6dd9bfe71c9e"
      },
      "execution_count": null,
      "outputs": [
        {
          "output_type": "stream",
          "name": "stdout",
          "text": [
            "chanifa berkata, \"Tolong perhatikan ke layar TV!\".\n"
          ]
        }
      ]
    },
    {
      "cell_type": "code",
      "source": [
        "print('chanifa berkata, \"Tolong perhatikan ke layat TV!\".')"
      ],
      "metadata": {
        "colab": {
          "base_uri": "https://localhost:8080/"
        },
        "id": "b-_T6Levx3zo",
        "outputId": "9548687b-3fdf-424a-b391-19a63d3eefe4"
      },
      "execution_count": null,
      "outputs": [
        {
          "output_type": "stream",
          "name": "stdout",
          "text": [
            "chanifa berkata, \"Tolong perhatikan ke layat TV!\".\n"
          ]
        }
      ]
    },
    {
      "cell_type": "code",
      "source": [
        "tahun=2010\n",
        "bulan=\"September\"\n",
        "tanggal=24\n",
        "\n",
        "print(tahun, end=\"-\")\n",
        "print(bulan, end=\"-\")\n",
        "print(tanggal)"
      ],
      "metadata": {
        "colab": {
          "base_uri": "https://localhost:8080/"
        },
        "id": "qak93Rbl7Ly9",
        "outputId": "4f8307e5-c6a4-42f5-94dc-b799cb6ca143"
      },
      "execution_count": null,
      "outputs": [
        {
          "output_type": "stream",
          "name": "stdout",
          "text": [
            "2010-September-24\n"
          ]
        }
      ]
    },
    {
      "cell_type": "code",
      "source": [
        "print(tanggal, end=\"/\")\n",
        "print(bulan, end=\"/\")\n",
        "print(tahun)"
      ],
      "metadata": {
        "colab": {
          "base_uri": "https://localhost:8080/"
        },
        "id": "hzzmuikR70Nn",
        "outputId": "22a2cf40-6171-4cca-cfa7-935ebce5ff8c"
      },
      "execution_count": null,
      "outputs": [
        {
          "output_type": "stream",
          "name": "stdout",
          "text": [
            "24/September/2010\n"
          ]
        }
      ]
    },
    {
      "cell_type": "code",
      "source": [
        "nama_siswa_1= \"Fida\"\n",
        "nama_siswa_2= \"Aji\"\n",
        "nama_siswa_3= \"Hadziq\"\n",
        "\n",
        "#Aji~Hadziq~Fida"
      ],
      "metadata": {
        "id": "cbVYJ9BJ9JRt"
      },
      "execution_count": null,
      "outputs": []
    },
    {
      "cell_type": "code",
      "source": [
        "print (nama_siswa_2, end=\"~\")\n",
        "print (nama_siswa_3, end=\"~\")\n",
        "print (nama_siswa_1,)"
      ],
      "metadata": {
        "colab": {
          "base_uri": "https://localhost:8080/"
        },
        "id": "xTY3duKX-Bvo",
        "outputId": "437a35b8-1e17-48a0-d122-7ad707fc9d87"
      },
      "execution_count": null,
      "outputs": [
        {
          "output_type": "stream",
          "name": "stdout",
          "text": [
            "Aji~Hadziq~Fida\n"
          ]
        }
      ]
    },
    {
      "cell_type": "code",
      "source": [
        "print(nama_siswa_2,nama_siswa_1,nama_siswa_3,nama_siswa_2, sep=\"-\")"
      ],
      "metadata": {
        "colab": {
          "base_uri": "https://localhost:8080/"
        },
        "id": "SoyJ2SxuBpyI",
        "outputId": "6aba3c16-fd36-4e2f-ebcf-c9cd556cd8f3"
      },
      "execution_count": null,
      "outputs": [
        {
          "output_type": "stream",
          "name": "stdout",
          "text": [
            "Aji-Fida-Hadziq-Aji\n"
          ]
        }
      ]
    },
    {
      "cell_type": "code",
      "source": [],
      "metadata": {
        "id": "eTWH3fXaCLxb"
      },
      "execution_count": null,
      "outputs": []
    }
  ],
  "metadata": {
    "colab": {
      "provenance": [],
      "authorship_tag": "ABX9TyMlMEUIB/ldH9KfUXbniy5W",
      "include_colab_link": true
    },
    "kernelspec": {
      "display_name": "Python 3",
      "name": "python3"
    },
    "language_info": {
      "name": "python"
    }
  },
  "nbformat": 4,
  "nbformat_minor": 0
}